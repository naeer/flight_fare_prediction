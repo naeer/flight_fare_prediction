{
 "cells": [
  {
   "cell_type": "code",
   "execution_count": 2,
   "metadata": {},
   "outputs": [],
   "source": [
    "import os\n",
    "import zipfile\n",
    "import pandas as pd\n",
    "from dateutil import parser"
   ]
  },
  {
   "cell_type": "code",
   "execution_count": 3,
   "metadata": {},
   "outputs": [],
   "source": [
    "# time categories\n",
    "def get_time_of_day(dt):\n",
    "    hour = dt.hour\n",
    "    if hour >=5 and hour < 8:\n",
    "        return 'Early Morning'\n",
    "    elif hour >= 8 and hour < 11:\n",
    "        return 'Morning'\n",
    "    elif hour >= 11 and hour < 14:\n",
    "        return 'Midday'\n",
    "    elif hour >= 14 and hour < 17:\n",
    "        return 'Afternoon'\n",
    "    elif hour >= 17 and hour < 20:\n",
    "        return 'Evening'\n",
    "    elif hour >= 20 and hour < 23:\n",
    "        return 'Night'\n",
    "    else:\n",
    "        return 'Late Night'\n",
    " \n",
    "# Remove UTC offset from datetime strings\n",
    "def remove_utc_offset(datetime_str):\n",
    "    dt = parser.parse(datetime_str)\n",
    "    return dt.strftime('%Y-%m-%dT%H:%M:%S.%f')\n",
    "\n",
    "# function to get features\n",
    "def getfeatures(df):\n",
    "\n",
    "    df['departuretime'] = df['segmentsDepartureTimeRaw'].apply(remove_utc_offset) \n",
    "    df['departuretime'] = pd.to_datetime(df['departuretime'], utc=False)\n",
    "    \n",
    "    # time category\n",
    "    df['time_category'] = df['departuretime'].apply(get_time_of_day)\n",
    "    \n",
    "    # departure date\n",
    "    df['date'] = (df['departuretime'] - pd.Timedelta(hours=2)).dt.date\n",
    "\n",
    "    # no. of days from flight\n",
    "    df['days_from_flight'] = (df['date'] - pd.to_datetime(df['searchDate']).dt.date).dt.days\n",
    "\n",
    "    return df"
   ]
  },
  {
   "cell_type": "code",
   "execution_count": 4,
   "metadata": {},
   "outputs": [
    {
     "name": "stdout",
     "output_type": "stream",
     "text": [
      "OAK\n",
      "DEN\n",
      "LGA\n",
      "LAX\n",
      "ATL\n",
      "CLT\n",
      "PHL\n",
      "DTW\n",
      "IAD\n",
      "JFK\n",
      "DFW\n",
      "BOS\n",
      "EWR\n",
      "SFO\n",
      "ORD\n",
      "MIA\n"
     ]
    }
   ],
   "source": [
    "# Root directory containing subfolders \n",
    "root_dir = 'itineraries_csv'\n",
    "\n",
    "dataframes = []\n",
    "\n",
    "# Loop through each subfolder\n",
    "for directory in os.listdir(root_dir):\n",
    "\n",
    "  if os.path.isdir(os.path.join(root_dir, directory)) and not directory.startswith('.'):\n",
    "    print(directory)\n",
    "    folder_path = os.path.join(root_dir, directory)  \n",
    "\n",
    "    # Loop through zip files\n",
    "    for filename in os.listdir(folder_path):\n",
    "      \n",
    "      if filename.endswith('.zip'):\n",
    "      \n",
    "        # Full path of zip file\n",
    "        zip_path = os.path.join(folder_path, filename)  \n",
    "        \n",
    "        # Extract zip contents\n",
    "        with zipfile.ZipFile(zip_path, 'r') as zip_ref:\n",
    "          zip_ref.extractall(folder_path)\n",
    "              \n",
    "          # Parse CSV file in zip \n",
    "          csv_path = os.path.join(folder_path, [x for x in zip_ref.namelist() if x.endswith('.csv')][0])      \n",
    "          df = pd.read_csv(csv_path)\n",
    "          \n",
    "          # Apply processing \n",
    "          df = df[df['isNonStop'] == True]  \n",
    "          df = getfeatures(df)\n",
    "\n",
    "          # CHANGE THIS LINE - MAYBE USE MINIMUM, MODE AND MEAN INSTEAD?\n",
    "          df = df.groupby(['segmentsDepartureAirportCode', 'segmentsArrivalAirportCode', 'segmentsCabinCode', 'date', 'time_category', 'days_from_flight'])['totalFare'].median().reset_index(name='medianfare')\n",
    "          \n",
    "          # Append to list\n",
    "          dataframes.append(df) \n",
    "        \n",
    "# Combine dataframes\n",
    "combined_df = pd.concat(dataframes, ignore_index=True)"
   ]
  },
  {
   "cell_type": "code",
   "execution_count": 8,
   "metadata": {},
   "outputs": [
    {
     "data": {
      "text/html": [
       "<div>\n",
       "<style scoped>\n",
       "    .dataframe tbody tr th:only-of-type {\n",
       "        vertical-align: middle;\n",
       "    }\n",
       "\n",
       "    .dataframe tbody tr th {\n",
       "        vertical-align: top;\n",
       "    }\n",
       "\n",
       "    .dataframe thead th {\n",
       "        text-align: right;\n",
       "    }\n",
       "</style>\n",
       "<table border=\"1\" class=\"dataframe\">\n",
       "  <thead>\n",
       "    <tr style=\"text-align: right;\">\n",
       "      <th></th>\n",
       "      <th>segmentsDepartureAirportCode</th>\n",
       "      <th>segmentsArrivalAirportCode</th>\n",
       "      <th>segmentsCabinCode</th>\n",
       "      <th>date</th>\n",
       "      <th>time_category</th>\n",
       "      <th>days_from_flight</th>\n",
       "      <th>medianfare</th>\n",
       "    </tr>\n",
       "  </thead>\n",
       "  <tbody>\n",
       "    <tr>\n",
       "      <th>0</th>\n",
       "      <td>OAK</td>\n",
       "      <td>DEN</td>\n",
       "      <td>coach</td>\n",
       "      <td>2022-05-20</td>\n",
       "      <td>Evening</td>\n",
       "      <td>31</td>\n",
       "      <td>83.980</td>\n",
       "    </tr>\n",
       "    <tr>\n",
       "      <th>1</th>\n",
       "      <td>OAK</td>\n",
       "      <td>DEN</td>\n",
       "      <td>coach</td>\n",
       "      <td>2022-05-21</td>\n",
       "      <td>Evening</td>\n",
       "      <td>32</td>\n",
       "      <td>43.980</td>\n",
       "    </tr>\n",
       "    <tr>\n",
       "      <th>2</th>\n",
       "      <td>OAK</td>\n",
       "      <td>DEN</td>\n",
       "      <td>coach</td>\n",
       "      <td>2022-05-22</td>\n",
       "      <td>Evening</td>\n",
       "      <td>33</td>\n",
       "      <td>173.980</td>\n",
       "    </tr>\n",
       "    <tr>\n",
       "      <th>3</th>\n",
       "      <td>OAK</td>\n",
       "      <td>LAX</td>\n",
       "      <td>coach</td>\n",
       "      <td>2022-05-20</td>\n",
       "      <td>Afternoon</td>\n",
       "      <td>31</td>\n",
       "      <td>168.610</td>\n",
       "    </tr>\n",
       "    <tr>\n",
       "      <th>4</th>\n",
       "      <td>OAK</td>\n",
       "      <td>LAX</td>\n",
       "      <td>coach</td>\n",
       "      <td>2022-05-20</td>\n",
       "      <td>Early Morning</td>\n",
       "      <td>31</td>\n",
       "      <td>100.285</td>\n",
       "    </tr>\n",
       "  </tbody>\n",
       "</table>\n",
       "</div>"
      ],
      "text/plain": [
       "  segmentsDepartureAirportCode segmentsArrivalAirportCode segmentsCabinCode  \\\n",
       "0                          OAK                        DEN             coach   \n",
       "1                          OAK                        DEN             coach   \n",
       "2                          OAK                        DEN             coach   \n",
       "3                          OAK                        LAX             coach   \n",
       "4                          OAK                        LAX             coach   \n",
       "\n",
       "         date  time_category  days_from_flight  medianfare  \n",
       "0  2022-05-20        Evening                31      83.980  \n",
       "1  2022-05-21        Evening                32      43.980  \n",
       "2  2022-05-22        Evening                33     173.980  \n",
       "3  2022-05-20      Afternoon                31     168.610  \n",
       "4  2022-05-20  Early Morning                31     100.285  "
      ]
     },
     "execution_count": 8,
     "metadata": {},
     "output_type": "execute_result"
    }
   ],
   "source": [
    "pd.set_option('display.max_rows', None)\n",
    "pd.set_option('display.max_columns', None)\n",
    "\n",
    "combined_df.head()"
   ]
  },
  {
   "cell_type": "code",
   "execution_count": 25,
   "metadata": {},
   "outputs": [
    {
     "data": {
      "text/plain": [
       "1649244"
      ]
     },
     "execution_count": 25,
     "metadata": {},
     "output_type": "execute_result"
    }
   ],
   "source": [
    "len(combined_df)"
   ]
  },
  {
   "cell_type": "code",
   "execution_count": 4,
   "metadata": {},
   "outputs": [],
   "source": [
    "combined_df.to_csv('medianfares.csv', index=False)"
   ]
  },
  {
   "cell_type": "code",
   "execution_count": 3,
   "metadata": {},
   "outputs": [],
   "source": [
    "combined_df = pd.read_csv('medianfares.csv')"
   ]
  },
  {
   "cell_type": "code",
   "execution_count": 18,
   "metadata": {},
   "outputs": [
    {
     "name": "stdout",
     "output_type": "stream",
     "text": [
      "Earliest date: 2022-04-16\n",
      "Latest date: 2022-07-18\n"
     ]
    }
   ],
   "source": [
    "print('Earliest date:', combined_df['date'].min())\n",
    "print('Latest date:', combined_df['date'].max())"
   ]
  },
  {
   "cell_type": "code",
   "execution_count": 19,
   "metadata": {},
   "outputs": [
    {
     "ename": "NameError",
     "evalue": "name 'df' is not defined",
     "output_type": "error",
     "traceback": [
      "\u001b[0;31m---------------------------------------------------------------------------\u001b[0m",
      "\u001b[0;31mNameError\u001b[0m                                 Traceback (most recent call last)",
      "Cell \u001b[0;32mIn[19], line 5\u001b[0m\n\u001b[1;32m      2\u001b[0m split_date \u001b[38;5;241m=\u001b[39m pd\u001b[38;5;241m.\u001b[39mTimestamp(\u001b[38;5;124m'\u001b[39m\u001b[38;5;124m2022-06-17\u001b[39m\u001b[38;5;124m'\u001b[39m)\n\u001b[1;32m      4\u001b[0m \u001b[38;5;66;03m# Create the train and test sets\u001b[39;00m\n\u001b[0;32m----> 5\u001b[0m train \u001b[38;5;241m=\u001b[39m \u001b[43mdf\u001b[49m\u001b[38;5;241m.\u001b[39mloc[df\u001b[38;5;241m.\u001b[39mindex \u001b[38;5;241m<\u001b[39m split_date]\n\u001b[1;32m      6\u001b[0m test \u001b[38;5;241m=\u001b[39m df\u001b[38;5;241m.\u001b[39mloc[df\u001b[38;5;241m.\u001b[39mindex \u001b[38;5;241m>\u001b[39m\u001b[38;5;241m=\u001b[39m split_date]\n",
      "\u001b[0;31mNameError\u001b[0m: name 'df' is not defined"
     ]
    }
   ],
   "source": [
    "# Define the split date\n",
    "split_date = pd.Timestamp('2022-06-17')\n",
    "\n",
    "# Create the train and test sets\n",
    "train = combined_df.loc[df.index < split_date]\n",
    "test = combined_df.loc[df.index >= split_date]"
   ]
  }
 ],
 "metadata": {
  "kernelspec": {
   "display_name": "Python 3 (ipykernel)",
   "language": "python",
   "name": "python3"
  },
  "language_info": {
   "codemirror_mode": {
    "name": "ipython",
    "version": 3
   },
   "file_extension": ".py",
   "mimetype": "text/x-python",
   "name": "python",
   "nbconvert_exporter": "python",
   "pygments_lexer": "ipython3",
   "version": "3.9.13"
  },
  "vscode": {
   "interpreter": {
    "hash": "60ba8425ebbd55ceb2dcf8cbed548e43a1eec22c47857aa60ca2b61f54a81eea"
   }
  }
 },
 "nbformat": 4,
 "nbformat_minor": 4
}
