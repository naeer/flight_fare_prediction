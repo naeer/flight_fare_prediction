{
 "cells": [
  {
   "cell_type": "markdown",
   "metadata": {},
   "source": [
    "## 1. Data Preparation"
   ]
  },
  {
   "cell_type": "code",
   "execution_count": 59,
   "metadata": {},
   "outputs": [
    {
     "name": "stderr",
     "output_type": "stream",
     "text": [
      "'gdown' is not recognized as an internal or external command,\n",
      "operable program or batch file.\n"
     ]
    }
   ],
   "source": [
    "import pandas as pd\n",
    "import numpy as np\n",
    "import matplotlib.pyplot as plt\n",
    "import seaborn as sns\n",
    "import zipfile\n",
    "import os\n",
    "from datetime import datetime\n",
    "from dateutil import parser\n",
    "from sklearn.pipeline import Pipeline\n",
    "from sklearn.compose import ColumnTransformer\n",
    "from sklearn.metrics import mean_squared_error, r2_score, mean_absolute_error\n",
    "from sklearn.preprocessing import OrdinalEncoder\n",
    "from sklearn.preprocessing import StandardScaler\n",
    "\n",
    "import warnings\n",
    "warnings.filterwarnings(\"ignore\")\n",
    "\n",
    "!gdown 1Fqx7lZFI9DTP-uIV8gstnGoNVGygaeAO\n",
    "\n",
    "with zipfile.ZipFile(\"../data/itineraries_csv.zip\", 'r') as zip_ref:\n",
    "    zip_ref.extractall(\"../data/\")\n",
    "    \n"
   ]
  },
  {
   "cell_type": "code",
   "execution_count": 60,
   "metadata": {},
   "outputs": [],
   "source": [
    "\n",
    "def load_data_into_dataframe(path):\n",
    "    \"\"\"\n",
    "    Function to load data from all csv files into a dataframe\n",
    "\n",
    "    Parameters\n",
    "    ----------\n",
    "    path : str\n",
    "        Path to the root directory containing all the csv files\n",
    "    \"\"\"\n",
    "    dfs_list = []\n",
    "    for root, dirs, files in os.walk(path):\n",
    "        for file in files:\n",
    "            if file.endswith('.csv'):\n",
    "                file_path = os.path.join(root, file)\n",
    "                df = pd.read_csv(file_path)\n",
    "                dfs_list.append(df)\n",
    "        print('Finished loading files for: ' + str(root))\n",
    "    final_df = pd.concat(dfs_list, ignore_index=True)\n",
    "    return final_df"
   ]
  },
  {
   "cell_type": "code",
   "execution_count": 61,
   "metadata": {},
   "outputs": [
    {
     "name": "stdout",
     "output_type": "stream",
     "text": [
      "Finished loading files for: ../data/itineraries_csv\n",
      "Finished loading files for: ../data/itineraries_csv\\ATL\n",
      "Finished loading files for: ../data/itineraries_csv\\BOS\n",
      "Finished loading files for: ../data/itineraries_csv\\CLT\n",
      "Finished loading files for: ../data/itineraries_csv\\DEN\n",
      "Finished loading files for: ../data/itineraries_csv\\DFW\n",
      "Finished loading files for: ../data/itineraries_csv\\DTW\n",
      "Finished loading files for: ../data/itineraries_csv\\EWR\n",
      "Finished loading files for: ../data/itineraries_csv\\IAD\n",
      "Finished loading files for: ../data/itineraries_csv\\JFK\n",
      "Finished loading files for: ../data/itineraries_csv\\LAX\n",
      "Finished loading files for: ../data/itineraries_csv\\LGA\n",
      "Finished loading files for: ../data/itineraries_csv\\MIA\n",
      "Finished loading files for: ../data/itineraries_csv\\OAK\n",
      "Finished loading files for: ../data/itineraries_csv\\ORD\n",
      "Finished loading files for: ../data/itineraries_csv\\PHL\n",
      "Finished loading files for: ../data/itineraries_csv\\SFO\n"
     ]
    }
   ],
   "source": [
    "df_final = load_data_into_dataframe('../data/itineraries_csv')"
   ]
  },
  {
   "cell_type": "code",
   "execution_count": 62,
   "metadata": {},
   "outputs": [
    {
     "name": "stdout",
     "output_type": "stream",
     "text": [
      "<class 'pandas.core.frame.DataFrame'>\n",
      "RangeIndex: 13519999 entries, 0 to 13519998\n",
      "Data columns (total 23 columns):\n",
      " #   Column                             Dtype  \n",
      "---  ------                             -----  \n",
      " 0   legId                              object \n",
      " 1   searchDate                         object \n",
      " 2   flightDate                         object \n",
      " 3   startingAirport                    object \n",
      " 4   destinationAirport                 object \n",
      " 5   travelDuration                     object \n",
      " 6   isBasicEconomy                     bool   \n",
      " 7   isRefundable                       bool   \n",
      " 8   isNonStop                          bool   \n",
      " 9   totalFare                          float64\n",
      " 10  totalTravelDistance                float64\n",
      " 11  segmentsDepartureTimeEpochSeconds  object \n",
      " 12  segmentsDepartureTimeRaw           object \n",
      " 13  segmentsArrivalTimeEpochSeconds    object \n",
      " 14  segmentsArrivalTimeRaw             object \n",
      " 15  segmentsArrivalAirportCode         object \n",
      " 16  segmentsDepartureAirportCode       object \n",
      " 17  segmentsAirlineName                object \n",
      " 18  segmentsAirlineCode                object \n",
      " 19  segmentsEquipmentDescription       object \n",
      " 20  segmentsDurationInSeconds          object \n",
      " 21  segmentsDistance                   object \n",
      " 22  segmentsCabinCode                  object \n",
      "dtypes: bool(3), float64(2), object(18)\n",
      "memory usage: 2.1+ GB\n"
     ]
    }
   ],
   "source": [
    "df_final.info()"
   ]
  },
  {
   "cell_type": "markdown",
   "metadata": {},
   "source": [
    "## 2. Feature Engineering"
   ]
  },
  {
   "cell_type": "code",
   "execution_count": 63,
   "metadata": {},
   "outputs": [],
   "source": [
    "import re\n",
    "## Building Feature Functions\n",
    "def remove_utc_offset(datetime_str):\n",
    "    \"\"\"\n",
    "    # Function to remove the UTC offset from datetime strings\n",
    "    \"\"\"\n",
    "    dt = parser.parse(datetime_str)\n",
    "    return dt.strftime('%Y-%m-%dT%H:%M:%S.%f')\n",
    "\n",
    "\n",
    "def get_time_of_day(dt):\n",
    "    \"\"\"\n",
    "    Function to generate time categories\n",
    "    \"\"\"\n",
    "    hour = dt.hour\n",
    "    if hour >=5 and hour < 8:\n",
    "        return 'Early Morning'\n",
    "    elif hour >= 8 and hour < 11:\n",
    "        return 'Morning'\n",
    "    elif hour >= 11 and hour < 14:\n",
    "        return 'Midday'\n",
    "    elif hour >= 14 and hour < 17:\n",
    "        return 'Afternoon'\n",
    "    elif hour >= 17 and hour < 20:\n",
    "        return 'Evening'\n",
    "    elif hour >= 20 and hour < 23:\n",
    "        return 'Night'\n",
    "    else:\n",
    "        return 'Late Night'\n",
    "    \n",
    "# function to get features\n",
    "def time_category_features(df):\n",
    "\n",
    "    df['departuretime'] = df['segmentsDepartureTimeRaw'].apply(remove_utc_offset) \n",
    "    \n",
    "    df['departuretime'] = pd.to_datetime(df['departuretime'], utc=False)\n",
    "    \n",
    "    # time category\n",
    "    df['time_category'] = df['departuretime'].apply(get_time_of_day)\n",
    "    \n",
    "    # departure date\n",
    "    df['date'] = (df['departuretime'] - pd.Timedelta(hours=2)).dt.date\n",
    "\n",
    "    # no. of days from flight\n",
    "    df['days_from_flight'] = (df['date'] - pd.to_datetime(df['searchDate']).dt.date)\n",
    "      \n",
    "    return df\n",
    "\n",
    "def date_category_features(df):\n",
    "    \n",
    "    df[\"day_of_week\"] = pd.to_datetime(df['date']).dt.day_name()\n",
    "    \n",
    "    df[\"year\"] = pd.to_datetime(df['date']).dt.year\n",
    "    \n",
    "    df[\"month\"] = pd.to_datetime(df['date']).dt.month\n",
    "    \n",
    "    df['day'] = pd.to_datetime(df['date']).dt.day\n",
    "    \n",
    "    return df\n",
    "\n",
    "\n",
    "def extract_days(duration_string):\n",
    "    days = re.search(r'(\\d+) days', duration_string)\n",
    "    return int(days.group(1)) if days else None\n"
   ]
  },
  {
   "cell_type": "code",
   "execution_count": 64,
   "metadata": {},
   "outputs": [],
   "source": [
    "df_final = df_final[df_final['isNonStop'] == True]"
   ]
  },
  {
   "cell_type": "code",
   "execution_count": 186,
   "metadata": {},
   "outputs": [],
   "source": [
    "df_input = df_final[['flightDate', \n",
    "                        'startingAirport',\n",
    "                        'searchDate',\n",
    "                        'destinationAirport', \n",
    "                        'segmentsDepartureTimeRaw', \n",
    "                        'segmentsCabinCode', \n",
    "                        'totalFare']]\n",
    "\n",
    "df_input['segmentsDepartureTimeRaw'] = df_input['segmentsDepartureTimeRaw'].str.split('\\|\\|').str[0]\n",
    "df_input['cabin_type'] = df_input['segmentsCabinCode'].str.split('\\|\\|').str[0]"
   ]
  },
  {
   "cell_type": "code",
   "execution_count": 187,
   "metadata": {},
   "outputs": [
    {
     "data": {
      "text/plain": [
       "flightDate                  0\n",
       "startingAirport             0\n",
       "searchDate                  0\n",
       "destinationAirport          0\n",
       "segmentsDepartureTimeRaw    0\n",
       "segmentsCabinCode           0\n",
       "totalFare                   0\n",
       "cabin_type                  0\n",
       "dtype: int64"
      ]
     },
     "execution_count": 187,
     "metadata": {},
     "output_type": "execute_result"
    }
   ],
   "source": [
    "df_input.isna().sum()"
   ]
  },
  {
   "cell_type": "code",
   "execution_count": 188,
   "metadata": {},
   "outputs": [],
   "source": [
    "df_input = time_category_features(df= df_input)"
   ]
  },
  {
   "cell_type": "code",
   "execution_count": 189,
   "metadata": {},
   "outputs": [],
   "source": [
    "df_input = date_category_features(df= df_input)"
   ]
  },
  {
   "cell_type": "code",
   "execution_count": 340,
   "metadata": {},
   "outputs": [],
   "source": [
    "df = df_input.groupby(['startingAirport', 'destinationAirport', 'date', 'year', 'month', 'day', 'cabin_type', 'time_category', 'days_from_flight', 'day_of_week'])['totalFare'].mean().reset_index(name='mean_fare')"
   ]
  },
  {
   "cell_type": "code",
   "execution_count": 310,
   "metadata": {},
   "outputs": [
    {
     "data": {
      "text/html": [
       "<div>\n",
       "<style scoped>\n",
       "    .dataframe tbody tr th:only-of-type {\n",
       "        vertical-align: middle;\n",
       "    }\n",
       "\n",
       "    .dataframe tbody tr th {\n",
       "        vertical-align: top;\n",
       "    }\n",
       "\n",
       "    .dataframe thead th {\n",
       "        text-align: right;\n",
       "    }\n",
       "</style>\n",
       "<table border=\"1\" class=\"dataframe\">\n",
       "  <thead>\n",
       "    <tr style=\"text-align: right;\">\n",
       "      <th></th>\n",
       "      <th>startingAirport</th>\n",
       "      <th>destinationAirport</th>\n",
       "      <th>date</th>\n",
       "      <th>year</th>\n",
       "      <th>month</th>\n",
       "      <th>day</th>\n",
       "      <th>cabin_type</th>\n",
       "      <th>time_category</th>\n",
       "      <th>days_from_flight</th>\n",
       "      <th>day_of_week</th>\n",
       "      <th>mean_fare</th>\n",
       "    </tr>\n",
       "  </thead>\n",
       "  <tbody>\n",
       "    <tr>\n",
       "      <th>0</th>\n",
       "      <td>ATL</td>\n",
       "      <td>BOS</td>\n",
       "      <td>2022-04-17</td>\n",
       "      <td>2022</td>\n",
       "      <td>4</td>\n",
       "      <td>17</td>\n",
       "      <td>coach</td>\n",
       "      <td>Afternoon</td>\n",
       "      <td>1 days</td>\n",
       "      <td>Sunday</td>\n",
       "      <td>398.600000</td>\n",
       "    </tr>\n",
       "    <tr>\n",
       "      <th>1</th>\n",
       "      <td>ATL</td>\n",
       "      <td>BOS</td>\n",
       "      <td>2022-04-17</td>\n",
       "      <td>2022</td>\n",
       "      <td>4</td>\n",
       "      <td>17</td>\n",
       "      <td>coach</td>\n",
       "      <td>Early Morning</td>\n",
       "      <td>1 days</td>\n",
       "      <td>Sunday</td>\n",
       "      <td>248.600000</td>\n",
       "    </tr>\n",
       "    <tr>\n",
       "      <th>2</th>\n",
       "      <td>ATL</td>\n",
       "      <td>BOS</td>\n",
       "      <td>2022-04-17</td>\n",
       "      <td>2022</td>\n",
       "      <td>4</td>\n",
       "      <td>17</td>\n",
       "      <td>coach</td>\n",
       "      <td>Evening</td>\n",
       "      <td>1 days</td>\n",
       "      <td>Sunday</td>\n",
       "      <td>387.956667</td>\n",
       "    </tr>\n",
       "    <tr>\n",
       "      <th>3</th>\n",
       "      <td>ATL</td>\n",
       "      <td>BOS</td>\n",
       "      <td>2022-04-17</td>\n",
       "      <td>2022</td>\n",
       "      <td>4</td>\n",
       "      <td>17</td>\n",
       "      <td>coach</td>\n",
       "      <td>Midday</td>\n",
       "      <td>1 days</td>\n",
       "      <td>Sunday</td>\n",
       "      <td>248.600000</td>\n",
       "    </tr>\n",
       "    <tr>\n",
       "      <th>4</th>\n",
       "      <td>ATL</td>\n",
       "      <td>BOS</td>\n",
       "      <td>2022-04-17</td>\n",
       "      <td>2022</td>\n",
       "      <td>4</td>\n",
       "      <td>17</td>\n",
       "      <td>coach</td>\n",
       "      <td>Morning</td>\n",
       "      <td>1 days</td>\n",
       "      <td>Sunday</td>\n",
       "      <td>265.766667</td>\n",
       "    </tr>\n",
       "    <tr>\n",
       "      <th>...</th>\n",
       "      <td>...</td>\n",
       "      <td>...</td>\n",
       "      <td>...</td>\n",
       "      <td>...</td>\n",
       "      <td>...</td>\n",
       "      <td>...</td>\n",
       "      <td>...</td>\n",
       "      <td>...</td>\n",
       "      <td>...</td>\n",
       "      <td>...</td>\n",
       "      <td>...</td>\n",
       "    </tr>\n",
       "    <tr>\n",
       "      <th>1580582</th>\n",
       "      <td>SFO</td>\n",
       "      <td>PHL</td>\n",
       "      <td>2022-07-16</td>\n",
       "      <td>2022</td>\n",
       "      <td>7</td>\n",
       "      <td>16</td>\n",
       "      <td>coach</td>\n",
       "      <td>Late Night</td>\n",
       "      <td>59 days</td>\n",
       "      <td>Saturday</td>\n",
       "      <td>468.610000</td>\n",
       "    </tr>\n",
       "    <tr>\n",
       "      <th>1580583</th>\n",
       "      <td>SFO</td>\n",
       "      <td>PHL</td>\n",
       "      <td>2022-07-16</td>\n",
       "      <td>2022</td>\n",
       "      <td>7</td>\n",
       "      <td>16</td>\n",
       "      <td>coach</td>\n",
       "      <td>Midday</td>\n",
       "      <td>59 days</td>\n",
       "      <td>Saturday</td>\n",
       "      <td>538.600000</td>\n",
       "    </tr>\n",
       "    <tr>\n",
       "      <th>1580584</th>\n",
       "      <td>SFO</td>\n",
       "      <td>PHL</td>\n",
       "      <td>2022-07-16</td>\n",
       "      <td>2022</td>\n",
       "      <td>7</td>\n",
       "      <td>16</td>\n",
       "      <td>coach</td>\n",
       "      <td>Night</td>\n",
       "      <td>59 days</td>\n",
       "      <td>Saturday</td>\n",
       "      <td>438.600000</td>\n",
       "    </tr>\n",
       "    <tr>\n",
       "      <th>1580585</th>\n",
       "      <td>SFO</td>\n",
       "      <td>PHL</td>\n",
       "      <td>2022-07-17</td>\n",
       "      <td>2022</td>\n",
       "      <td>7</td>\n",
       "      <td>17</td>\n",
       "      <td>coach</td>\n",
       "      <td>Midday</td>\n",
       "      <td>60 days</td>\n",
       "      <td>Sunday</td>\n",
       "      <td>548.600000</td>\n",
       "    </tr>\n",
       "    <tr>\n",
       "      <th>1580586</th>\n",
       "      <td>SFO</td>\n",
       "      <td>PHL</td>\n",
       "      <td>2022-07-17</td>\n",
       "      <td>2022</td>\n",
       "      <td>7</td>\n",
       "      <td>17</td>\n",
       "      <td>coach</td>\n",
       "      <td>Night</td>\n",
       "      <td>60 days</td>\n",
       "      <td>Sunday</td>\n",
       "      <td>458.605000</td>\n",
       "    </tr>\n",
       "  </tbody>\n",
       "</table>\n",
       "<p>1580587 rows × 11 columns</p>\n",
       "</div>"
      ],
      "text/plain": [
       "        startingAirport destinationAirport        date  year  month  day  \\\n",
       "0                   ATL                BOS  2022-04-17  2022      4   17   \n",
       "1                   ATL                BOS  2022-04-17  2022      4   17   \n",
       "2                   ATL                BOS  2022-04-17  2022      4   17   \n",
       "3                   ATL                BOS  2022-04-17  2022      4   17   \n",
       "4                   ATL                BOS  2022-04-17  2022      4   17   \n",
       "...                 ...                ...         ...   ...    ...  ...   \n",
       "1580582             SFO                PHL  2022-07-16  2022      7   16   \n",
       "1580583             SFO                PHL  2022-07-16  2022      7   16   \n",
       "1580584             SFO                PHL  2022-07-16  2022      7   16   \n",
       "1580585             SFO                PHL  2022-07-17  2022      7   17   \n",
       "1580586             SFO                PHL  2022-07-17  2022      7   17   \n",
       "\n",
       "        cabin_type  time_category days_from_flight day_of_week   mean_fare  \n",
       "0            coach      Afternoon           1 days      Sunday  398.600000  \n",
       "1            coach  Early Morning           1 days      Sunday  248.600000  \n",
       "2            coach        Evening           1 days      Sunday  387.956667  \n",
       "3            coach         Midday           1 days      Sunday  248.600000  \n",
       "4            coach        Morning           1 days      Sunday  265.766667  \n",
       "...            ...            ...              ...         ...         ...  \n",
       "1580582      coach     Late Night          59 days    Saturday  468.610000  \n",
       "1580583      coach         Midday          59 days    Saturday  538.600000  \n",
       "1580584      coach          Night          59 days    Saturday  438.600000  \n",
       "1580585      coach         Midday          60 days      Sunday  548.600000  \n",
       "1580586      coach          Night          60 days      Sunday  458.605000  \n",
       "\n",
       "[1580587 rows x 11 columns]"
      ]
     },
     "execution_count": 310,
     "metadata": {},
     "output_type": "execute_result"
    }
   ],
   "source": [
    "df"
   ]
  },
  {
   "cell_type": "code",
   "execution_count": 342,
   "metadata": {},
   "outputs": [
    {
     "name": "stdout",
     "output_type": "stream",
     "text": [
      "<class 'pandas.core.frame.DataFrame'>\n",
      "RangeIndex: 1580587 entries, 0 to 1580586\n",
      "Data columns (total 11 columns):\n",
      " #   Column              Non-Null Count    Dtype  \n",
      "---  ------              --------------    -----  \n",
      " 0   startingAirport     1580587 non-null  object \n",
      " 1   destinationAirport  1580587 non-null  object \n",
      " 2   date                1580587 non-null  object \n",
      " 3   year                1580587 non-null  int32  \n",
      " 4   month               1580587 non-null  int32  \n",
      " 5   day                 1580587 non-null  int32  \n",
      " 6   cabin_type          1580587 non-null  object \n",
      " 7   time_category       1580587 non-null  object \n",
      " 8   days_from_flight    1580587 non-null  object \n",
      " 9   day_of_week         1580587 non-null  object \n",
      " 10  mean_fare           1580587 non-null  float64\n",
      "dtypes: float64(1), int32(3), object(7)\n",
      "memory usage: 114.6+ MB\n"
     ]
    }
   ],
   "source": [
    "df.info()"
   ]
  },
  {
   "cell_type": "code",
   "execution_count": 341,
   "metadata": {},
   "outputs": [],
   "source": [
    "df['days_from_flight'] = df['days_from_flight'].astype('str')\n",
    "#df['days_from_flight'] = df['days_from_flight'].apply(extract_days)"
   ]
  },
  {
   "cell_type": "code",
   "execution_count": 312,
   "metadata": {},
   "outputs": [
    {
     "data": {
      "text/plain": [
       "startingAirport       0\n",
       "destinationAirport    0\n",
       "date                  0\n",
       "year                  0\n",
       "month                 0\n",
       "day                   0\n",
       "cabin_type            0\n",
       "time_category         0\n",
       "days_from_flight      0\n",
       "day_of_week           0\n",
       "mean_fare             0\n",
       "dtype: int64"
      ]
     },
     "execution_count": 312,
     "metadata": {},
     "output_type": "execute_result"
    }
   ],
   "source": [
    "df.isna().sum()"
   ]
  },
  {
   "cell_type": "code",
   "execution_count": 330,
   "metadata": {},
   "outputs": [
    {
     "data": {
      "text/plain": [
       "array(['1 days', '2 days', '3 days', '4 days', '5 days', '6 days',\n",
       "       '7 days', '8 days', '9 days', '10 days', '11 days', '12 days',\n",
       "       '13 days', '14 days', '15 days', '16 days', '17 days', '18 days',\n",
       "       '19 days', '20 days', '21 days', '22 days', '23 days', '24 days',\n",
       "       '25 days', '26 days', '27 days', '28 days', '29 days', '30 days',\n",
       "       '31 days', '32 days', '33 days', '34 days', '35 days', '36 days',\n",
       "       '37 days', '38 days', '39 days', '40 days', '41 days', '42 days',\n",
       "       '43 days', '44 days', '45 days', '46 days', '47 days', '48 days',\n",
       "       '49 days', '50 days', '51 days', '52 days', '53 days', '54 days',\n",
       "       '55 days', '56 days', '57 days', '58 days', '59 days', '60 days',\n",
       "       '0 days', '61 days'], dtype=object)"
      ]
     },
     "execution_count": 330,
     "metadata": {},
     "output_type": "execute_result"
    }
   ],
   "source": [
    "df['days_from_flight'].unique()"
   ]
  },
  {
   "cell_type": "code",
   "execution_count": 331,
   "metadata": {},
   "outputs": [
    {
     "name": "stdout",
     "output_type": "stream",
     "text": [
      "startingAirport\n",
      "['ATL' 'BOS' 'CLT' 'DEN' 'DFW' 'DTW' 'EWR' 'IAD' 'JFK' 'LAX' 'LGA' 'MIA'\n",
      " 'OAK' 'ORD' 'PHL' 'SFO']\n",
      "destinationAirport\n",
      "['BOS' 'CLT' 'DEN' 'DFW' 'DTW' 'EWR' 'IAD' 'JFK' 'LAX' 'LGA' 'MIA' 'ORD'\n",
      " 'PHL' 'SFO' 'ATL' 'OAK']\n",
      "date\n",
      "<DatetimeArray>\n",
      "['2022-04-17 00:00:00', '2022-04-18 00:00:00', '2022-04-19 00:00:00',\n",
      " '2022-04-20 00:00:00', '2022-04-21 00:00:00', '2022-04-22 00:00:00',\n",
      " '2022-04-23 00:00:00', '2022-04-24 00:00:00', '2022-04-25 00:00:00',\n",
      " '2022-04-26 00:00:00', '2022-04-27 00:00:00', '2022-04-28 00:00:00',\n",
      " '2022-04-29 00:00:00', '2022-04-30 00:00:00', '2022-05-01 00:00:00',\n",
      " '2022-05-02 00:00:00', '2022-05-03 00:00:00', '2022-05-04 00:00:00',\n",
      " '2022-05-05 00:00:00', '2022-05-06 00:00:00', '2022-05-07 00:00:00',\n",
      " '2022-05-08 00:00:00', '2022-05-09 00:00:00', '2022-05-10 00:00:00',\n",
      " '2022-05-11 00:00:00', '2022-05-12 00:00:00', '2022-05-13 00:00:00',\n",
      " '2022-05-14 00:00:00', '2022-05-15 00:00:00', '2022-05-16 00:00:00',\n",
      " '2022-05-17 00:00:00', '2022-05-18 00:00:00', '2022-05-19 00:00:00',\n",
      " '2022-05-20 00:00:00', '2022-05-21 00:00:00', '2022-05-22 00:00:00',\n",
      " '2022-05-23 00:00:00', '2022-05-24 00:00:00', '2022-05-25 00:00:00',\n",
      " '2022-05-26 00:00:00', '2022-05-27 00:00:00', '2022-05-28 00:00:00',\n",
      " '2022-05-29 00:00:00', '2022-05-30 00:00:00', '2022-05-31 00:00:00',\n",
      " '2022-06-01 00:00:00', '2022-06-02 00:00:00', '2022-06-03 00:00:00',\n",
      " '2022-06-04 00:00:00', '2022-06-05 00:00:00', '2022-06-06 00:00:00',\n",
      " '2022-06-07 00:00:00', '2022-06-08 00:00:00', '2022-06-09 00:00:00',\n",
      " '2022-06-10 00:00:00', '2022-06-11 00:00:00', '2022-06-12 00:00:00',\n",
      " '2022-06-13 00:00:00', '2022-06-14 00:00:00', '2022-06-15 00:00:00',\n",
      " '2022-06-16 00:00:00', '2022-06-17 00:00:00', '2022-06-18 00:00:00',\n",
      " '2022-06-19 00:00:00', '2022-06-20 00:00:00', '2022-06-21 00:00:00',\n",
      " '2022-06-22 00:00:00', '2022-06-23 00:00:00', '2022-06-24 00:00:00',\n",
      " '2022-06-25 00:00:00', '2022-06-26 00:00:00', '2022-06-27 00:00:00',\n",
      " '2022-06-28 00:00:00', '2022-06-29 00:00:00', '2022-06-30 00:00:00',\n",
      " '2022-07-01 00:00:00', '2022-07-02 00:00:00', '2022-07-03 00:00:00',\n",
      " '2022-07-04 00:00:00', '2022-07-05 00:00:00', '2022-07-06 00:00:00',\n",
      " '2022-07-07 00:00:00', '2022-07-08 00:00:00', '2022-07-09 00:00:00',\n",
      " '2022-07-10 00:00:00', '2022-07-11 00:00:00', '2022-07-12 00:00:00',\n",
      " '2022-07-13 00:00:00', '2022-07-14 00:00:00', '2022-07-15 00:00:00',\n",
      " '2022-07-16 00:00:00', '2022-07-17 00:00:00', '2022-04-16 00:00:00',\n",
      " '2022-07-18 00:00:00']\n",
      "Length: 94, dtype: datetime64[ns]\n",
      "year\n",
      "[2022]\n",
      "month\n",
      "[4 5 6 7]\n",
      "day\n",
      "[17 18 19 20 21 22 23 24 25 26 27 28 29 30  1  2  3  4  5  6  7  8  9 10\n",
      " 11 12 13 14 15 16 31]\n",
      "cabin_type\n",
      "['coach' 'first' 'premium coach' 'business']\n",
      "time_category\n",
      "['Afternoon' 'Early Morning' 'Evening' 'Midday' 'Morning' 'Night'\n",
      " 'Late Night']\n",
      "days_from_flight\n",
      "['1 days' '2 days' '3 days' '4 days' '5 days' '6 days' '7 days' '8 days'\n",
      " '9 days' '10 days' '11 days' '12 days' '13 days' '14 days' '15 days'\n",
      " '16 days' '17 days' '18 days' '19 days' '20 days' '21 days' '22 days'\n",
      " '23 days' '24 days' '25 days' '26 days' '27 days' '28 days' '29 days'\n",
      " '30 days' '31 days' '32 days' '33 days' '34 days' '35 days' '36 days'\n",
      " '37 days' '38 days' '39 days' '40 days' '41 days' '42 days' '43 days'\n",
      " '44 days' '45 days' '46 days' '47 days' '48 days' '49 days' '50 days'\n",
      " '51 days' '52 days' '53 days' '54 days' '55 days' '56 days' '57 days'\n",
      " '58 days' '59 days' '60 days' '0 days' '61 days']\n",
      "day_of_week\n",
      "['Sunday' 'Monday' 'Tuesday' 'Wednesday' 'Thursday' 'Friday' 'Saturday']\n",
      "mean_fare\n",
      "[ 398.6         248.6         387.95666667 ... 1213.8         519.94\n",
      " 1674.6       ]\n"
     ]
    }
   ],
   "source": [
    "for col in df.columns:\n",
    "  print(col)\n",
    "  print(df[col].unique())"
   ]
  },
  {
   "cell_type": "code",
   "execution_count": 315,
   "metadata": {},
   "outputs": [
    {
     "data": {
      "text/plain": [
       "array(['ATL', 'BOS', 'CLT', 'DEN', 'DFW', 'DTW', 'EWR', 'IAD', 'JFK',\n",
       "       'LAX', 'LGA', 'MIA', 'OAK', 'ORD', 'PHL', 'SFO'], dtype=object)"
      ]
     },
     "execution_count": 315,
     "metadata": {},
     "output_type": "execute_result"
    }
   ],
   "source": [
    "df['startingAirport'].unique()"
   ]
  },
  {
   "cell_type": "code",
   "execution_count": null,
   "metadata": {},
   "outputs": [],
   "source": []
  },
  {
   "cell_type": "code",
   "execution_count": 343,
   "metadata": {},
   "outputs": [],
   "source": [
    "from sklearn.preprocessing import OneHotEncoder\n",
    "from sklearn.impute import SimpleImputer\n",
    "from category_encoders import TargetEncoder\n",
    "\n",
    "def create_transformer(cat_cols_1, cat_cols_2):\n",
    "    cat_ohe_transformer = Pipeline(\n",
    "        steps = [\n",
    "            ('constant_imputer', SimpleImputer(strategy='constant', fill_value='MISSING')),\n",
    "            ('one_hot_encoder', OneHotEncoder(sparse_output=False, drop='first', handle_unknown='ignore'))\n",
    "        ]\n",
    "    )\n",
    "\n",
    "    cat_target_transformer = Pipeline(\n",
    "        steps = [\n",
    "            ('constant_imputer', SimpleImputer(strategy='constant', fill_value='MISSING')),\n",
    "            ('target_encoder', TargetEncoder())\n",
    "        ]\n",
    "    )\n",
    "    \n",
    "    preprocessor = ColumnTransformer(\n",
    "        transformers = [\n",
    "            ('low_cardinal_cats', cat_ohe_transformer, cat_cols_1),\n",
    "            ('high_cardinal_cats', cat_target_transformer, cat_cols_2)\n",
    "        ]\n",
    "    )\n",
    "    \n",
    "    return preprocessor"
   ]
  },
  {
   "cell_type": "code",
   "execution_count": 344,
   "metadata": {},
   "outputs": [],
   "source": [
    "cat_cols_2 = ['date', 'days_from_flight']\n",
    "cat_cols_1 = ['startingAirport', 'destinationAirport', 'cabin_type', \n",
    "                    'time_category', 'day_of_week']"
   ]
  },
  {
   "cell_type": "code",
   "execution_count": 345,
   "metadata": {},
   "outputs": [],
   "source": [
    "preprocessor = create_transformer(cat_cols_1= cat_cols_1, cat_cols_2= cat_cols_2)"
   ]
  },
  {
   "cell_type": "markdown",
   "metadata": {},
   "source": [
    "## 3. Data Split"
   ]
  },
  {
   "cell_type": "code",
   "execution_count": 347,
   "metadata": {},
   "outputs": [],
   "source": [
    "# Define the split date\n",
    "df['date'] = pd.to_datetime(df['date'])\n",
    "split_date = pd.to_datetime('2022-06-17')\n",
    "\n",
    "# Create the train and test sets\n",
    "df_train = df[df['date'] < split_date]\n",
    "df_test = df[df['date'] >= split_date]"
   ]
  },
  {
   "cell_type": "code",
   "execution_count": 348,
   "metadata": {},
   "outputs": [],
   "source": [
    "X_train = df_train.drop(['mean_fare', 'year', 'month', 'day'], axis=1)\n",
    "y_train = df_train['mean_fare']\n",
    "X_test = df_test.drop(['mean_fare', 'year', 'month', 'day'], axis=1)\n",
    "y_test = df_test['mean_fare']"
   ]
  },
  {
   "cell_type": "code",
   "execution_count": 349,
   "metadata": {},
   "outputs": [],
   "source": [
    "X_train['date'] = X_train['date'].astype(str)\n",
    "X_test['date'] = X_test['date'].astype(str)"
   ]
  },
  {
   "cell_type": "markdown",
   "metadata": {},
   "source": [
    "## 4. Train LightGBM Regressor Model"
   ]
  },
  {
   "cell_type": "code",
   "execution_count": 352,
   "metadata": {},
   "outputs": [],
   "source": [
    "import lightgbm as lgb\n",
    "\n",
    "def create_lgbm_pipeline(preprocessor, X_train, y_train, params):\n",
    "    \n",
    "    \n",
    "    \n",
    "    lgb_pipe = Pipeline(\n",
    "        steps=[\n",
    "            ('preprocessor', preprocessor),\n",
    "            ('lgb', lgb.LGBMRegressor(**params))\n",
    "        ]\n",
    "    )\n",
    "    \n",
    "    lgb_pipe.fit(X_train, y_train)\n",
    "    return lgb_pipe"
   ]
  },
  {
   "cell_type": "code",
   "execution_count": 354,
   "metadata": {},
   "outputs": [
    {
     "name": "stdout",
     "output_type": "stream",
     "text": [
      "[LightGBM] [Warning] Auto-choosing row-wise multi-threading, the overhead of testing was 0.018290 seconds.\n",
      "You can set `force_row_wise=true` to remove the overhead.\n",
      "And if memory is not enough, you can set `force_col_wise=true`.\n",
      "[LightGBM] [Info] Total Bins 214\n",
      "[LightGBM] [Info] Number of data points in the train set: 1266959, number of used features: 47\n",
      "[LightGBM] [Info] Start training from score 295.985751\n"
     ]
    }
   ],
   "source": [
    "default_parm = {}\n",
    "lgb_default = create_lgbm_pipeline(preprocessor, X_train, y_train, default_parm)"
   ]
  },
  {
   "cell_type": "code",
   "execution_count": 355,
   "metadata": {},
   "outputs": [],
   "source": [
    "pred_1 = lgb_default.predict(X_test)"
   ]
  },
  {
   "cell_type": "code",
   "execution_count": 358,
   "metadata": {},
   "outputs": [],
   "source": [
    "def calculate_regression_metrics(y_test, pred):\n",
    "    rmse = mean_squared_error(y_test, pred, squared=False)\n",
    "    mse = mean_squared_error(y_test, pred)\n",
    "    r2 = r2_score(y_test, pred)\n",
    "    mae = mean_absolute_error(y_test, pred)\n",
    "    metrics = {\n",
    "        \"RMSE\": rmse,\n",
    "        \"MSE\": mse,\n",
    "        \"R2\": r2,\n",
    "        \"MAE\": mae\n",
    "    }\n",
    "    return metrics"
   ]
  },
  {
   "cell_type": "code",
   "execution_count": 359,
   "metadata": {},
   "outputs": [
    {
     "data": {
      "text/plain": [
       "{'RMSE': 102.06108554335506,\n",
       " 'MSE': 10416.46518228804,\n",
       " 'R2': 0.6117362648632906,\n",
       " 'MAE': 70.431522794177}"
      ]
     },
     "execution_count": 359,
     "metadata": {},
     "output_type": "execute_result"
    }
   ],
   "source": [
    "calculate_regression_metrics(y_test, pred_1)"
   ]
  },
  {
   "cell_type": "code",
   "execution_count": 360,
   "metadata": {},
   "outputs": [],
   "source": [
    "def create_comparison_dataframe(y_test, predicted_values, model_name):\n",
    "    df = pd.DataFrame({\n",
    "        'Actual Value (y_test)': y_test,\n",
    "        f'Predicted Value ({model_name})': predicted_values,\n",
    "        'Difference': abs(y_test - predicted_values)\n",
    "    })\n",
    "    return df"
   ]
  },
  {
   "cell_type": "code",
   "execution_count": 361,
   "metadata": {},
   "outputs": [
    {
     "data": {
      "text/html": [
       "<div>\n",
       "<style scoped>\n",
       "    .dataframe tbody tr th:only-of-type {\n",
       "        vertical-align: middle;\n",
       "    }\n",
       "\n",
       "    .dataframe tbody tr th {\n",
       "        vertical-align: top;\n",
       "    }\n",
       "\n",
       "    .dataframe thead th {\n",
       "        text-align: right;\n",
       "    }\n",
       "</style>\n",
       "<table border=\"1\" class=\"dataframe\">\n",
       "  <thead>\n",
       "    <tr style=\"text-align: right;\">\n",
       "      <th></th>\n",
       "      <th>Actual Value (y_test)</th>\n",
       "      <th>Predicted Value (LGBM_Default)</th>\n",
       "      <th>Difference</th>\n",
       "    </tr>\n",
       "  </thead>\n",
       "  <tbody>\n",
       "    <tr>\n",
       "      <th>7362</th>\n",
       "      <td>233.605</td>\n",
       "      <td>264.136203</td>\n",
       "      <td>30.531203</td>\n",
       "    </tr>\n",
       "    <tr>\n",
       "      <th>7363</th>\n",
       "      <td>303.605</td>\n",
       "      <td>264.136203</td>\n",
       "      <td>39.468797</td>\n",
       "    </tr>\n",
       "    <tr>\n",
       "      <th>7364</th>\n",
       "      <td>288.610</td>\n",
       "      <td>262.848816</td>\n",
       "      <td>25.761184</td>\n",
       "    </tr>\n",
       "    <tr>\n",
       "      <th>7365</th>\n",
       "      <td>308.610</td>\n",
       "      <td>264.136203</td>\n",
       "      <td>44.473797</td>\n",
       "    </tr>\n",
       "    <tr>\n",
       "      <th>7366</th>\n",
       "      <td>288.610</td>\n",
       "      <td>260.395283</td>\n",
       "      <td>28.214717</td>\n",
       "    </tr>\n",
       "    <tr>\n",
       "      <th>...</th>\n",
       "      <td>...</td>\n",
       "      <td>...</td>\n",
       "      <td>...</td>\n",
       "    </tr>\n",
       "    <tr>\n",
       "      <th>1580582</th>\n",
       "      <td>468.610</td>\n",
       "      <td>387.134335</td>\n",
       "      <td>81.475665</td>\n",
       "    </tr>\n",
       "    <tr>\n",
       "      <th>1580583</th>\n",
       "      <td>538.600</td>\n",
       "      <td>659.560350</td>\n",
       "      <td>120.960350</td>\n",
       "    </tr>\n",
       "    <tr>\n",
       "      <th>1580584</th>\n",
       "      <td>438.600</td>\n",
       "      <td>467.469405</td>\n",
       "      <td>28.869405</td>\n",
       "    </tr>\n",
       "    <tr>\n",
       "      <th>1580585</th>\n",
       "      <td>548.600</td>\n",
       "      <td>665.464287</td>\n",
       "      <td>116.864287</td>\n",
       "    </tr>\n",
       "    <tr>\n",
       "      <th>1580586</th>\n",
       "      <td>458.605</td>\n",
       "      <td>475.693809</td>\n",
       "      <td>17.088809</td>\n",
       "    </tr>\n",
       "  </tbody>\n",
       "</table>\n",
       "<p>313628 rows × 3 columns</p>\n",
       "</div>"
      ],
      "text/plain": [
       "         Actual Value (y_test)  Predicted Value (LGBM_Default)  Difference\n",
       "7362                   233.605                      264.136203   30.531203\n",
       "7363                   303.605                      264.136203   39.468797\n",
       "7364                   288.610                      262.848816   25.761184\n",
       "7365                   308.610                      264.136203   44.473797\n",
       "7366                   288.610                      260.395283   28.214717\n",
       "...                        ...                             ...         ...\n",
       "1580582                468.610                      387.134335   81.475665\n",
       "1580583                538.600                      659.560350  120.960350\n",
       "1580584                438.600                      467.469405   28.869405\n",
       "1580585                548.600                      665.464287  116.864287\n",
       "1580586                458.605                      475.693809   17.088809\n",
       "\n",
       "[313628 rows x 3 columns]"
      ]
     },
     "execution_count": 361,
     "metadata": {},
     "output_type": "execute_result"
    }
   ],
   "source": [
    "df_pred = create_comparison_dataframe(y_test, pred_1, \"LGBM_Default\")\n",
    "\n",
    "\n",
    "df_pred    "
   ]
  },
  {
   "cell_type": "markdown",
   "metadata": {},
   "source": [
    "## 5. Train tuned LGBM Regressor "
   ]
  },
  {
   "cell_type": "code",
   "execution_count": 362,
   "metadata": {},
   "outputs": [
    {
     "name": "stdout",
     "output_type": "stream",
     "text": [
      "[LightGBM] [Warning] Accuracy may be bad since you didn't explicitly set num_leaves OR 2^max_depth > num_leaves. (num_leaves=31).\n",
      "[LightGBM] [Warning] Accuracy may be bad since you didn't explicitly set num_leaves OR 2^max_depth > num_leaves. (num_leaves=31).\n",
      "[LightGBM] [Warning] Auto-choosing row-wise multi-threading, the overhead of testing was 0.014938 seconds.\n",
      "You can set `force_row_wise=true` to remove the overhead.\n",
      "And if memory is not enough, you can set `force_col_wise=true`.\n",
      "[LightGBM] [Info] Total Bins 214\n",
      "[LightGBM] [Info] Number of data points in the train set: 1266959, number of used features: 47\n",
      "[LightGBM] [Info] Start training from score 295.985751\n",
      "[LightGBM] [Warning] No further splits with positive gain, best gain: -inf\n",
      "[LightGBM] [Warning] No further splits with positive gain, best gain: -inf\n",
      "[LightGBM] [Warning] No further splits with positive gain, best gain: -inf\n",
      "[LightGBM] [Warning] No further splits with positive gain, best gain: -inf\n",
      "[LightGBM] [Warning] No further splits with positive gain, best gain: -inf\n",
      "[LightGBM] [Warning] No further splits with positive gain, best gain: -inf\n",
      "[LightGBM] [Warning] No further splits with positive gain, best gain: -inf\n",
      "[LightGBM] [Warning] No further splits with positive gain, best gain: -inf\n",
      "[LightGBM] [Warning] No further splits with positive gain, best gain: -inf\n",
      "[LightGBM] [Warning] No further splits with positive gain, best gain: -inf\n",
      "[LightGBM] [Warning] No further splits with positive gain, best gain: -inf\n",
      "[LightGBM] [Warning] No further splits with positive gain, best gain: -inf\n",
      "[LightGBM] [Warning] No further splits with positive gain, best gain: -inf\n",
      "[LightGBM] [Warning] No further splits with positive gain, best gain: -inf\n",
      "[LightGBM] [Warning] No further splits with positive gain, best gain: -inf\n",
      "[LightGBM] [Warning] No further splits with positive gain, best gain: -inf\n",
      "[LightGBM] [Warning] No further splits with positive gain, best gain: -inf\n",
      "[LightGBM] [Warning] No further splits with positive gain, best gain: -inf\n",
      "[LightGBM] [Warning] No further splits with positive gain, best gain: -inf\n",
      "[LightGBM] [Warning] No further splits with positive gain, best gain: -inf\n",
      "[LightGBM] [Warning] No further splits with positive gain, best gain: -inf\n",
      "[LightGBM] [Warning] No further splits with positive gain, best gain: -inf\n",
      "[LightGBM] [Warning] No further splits with positive gain, best gain: -inf\n",
      "[LightGBM] [Warning] No further splits with positive gain, best gain: -inf\n",
      "[LightGBM] [Warning] No further splits with positive gain, best gain: -inf\n",
      "[LightGBM] [Warning] No further splits with positive gain, best gain: -inf\n",
      "[LightGBM] [Warning] No further splits with positive gain, best gain: -inf\n",
      "[LightGBM] [Warning] No further splits with positive gain, best gain: -inf\n",
      "[LightGBM] [Warning] No further splits with positive gain, best gain: -inf\n",
      "[LightGBM] [Warning] No further splits with positive gain, best gain: -inf\n",
      "[LightGBM] [Warning] No further splits with positive gain, best gain: -inf\n",
      "[LightGBM] [Warning] No further splits with positive gain, best gain: -inf\n",
      "[LightGBM] [Warning] No further splits with positive gain, best gain: -inf\n",
      "[LightGBM] [Warning] No further splits with positive gain, best gain: -inf\n",
      "[LightGBM] [Warning] No further splits with positive gain, best gain: -inf\n",
      "[LightGBM] [Warning] No further splits with positive gain, best gain: -inf\n",
      "[LightGBM] [Warning] No further splits with positive gain, best gain: -inf\n"
     ]
    }
   ],
   "source": [
    "params = {\n",
    "    'learning_rate': 0.1,\n",
    "    'max_depth': 5,\n",
    "    'n_estimators': 100,\n",
    "    'subsample': 0.8,\n",
    "    'colsample_bytree': 0.8,\n",
    "    'min_child_samples': 20,\n",
    "    'reg_alpha': 0.1,\n",
    "    'reg_lambda': 0.1\n",
    "}\n",
    "lgb_pipe_tuned = create_lgbm_pipeline(preprocessor, X_train, y_train, params)"
   ]
  },
  {
   "cell_type": "code",
   "execution_count": 363,
   "metadata": {},
   "outputs": [
    {
     "name": "stdout",
     "output_type": "stream",
     "text": [
      "[LightGBM] [Warning] Accuracy may be bad since you didn't explicitly set num_leaves OR 2^max_depth > num_leaves. (num_leaves=31).\n"
     ]
    }
   ],
   "source": [
    "pred_2 = lgb_pipe_tuned.predict(X_test)"
   ]
  },
  {
   "cell_type": "code",
   "execution_count": 292,
   "metadata": {},
   "outputs": [
    {
     "data": {
      "text/plain": [
       "{'RMSE': 103.14887175140247,\n",
       " 'MSE': 10639.689743587272,\n",
       " 'R2': 0.6034157837377294,\n",
       " 'MAE': 71.8434317173128}"
      ]
     },
     "execution_count": 292,
     "metadata": {},
     "output_type": "execute_result"
    }
   ],
   "source": [
    "calculate_regression_metrics(y_test, pred_2)"
   ]
  },
  {
   "cell_type": "code",
   "execution_count": 364,
   "metadata": {},
   "outputs": [
    {
     "data": {
      "text/html": [
       "<div>\n",
       "<style scoped>\n",
       "    .dataframe tbody tr th:only-of-type {\n",
       "        vertical-align: middle;\n",
       "    }\n",
       "\n",
       "    .dataframe tbody tr th {\n",
       "        vertical-align: top;\n",
       "    }\n",
       "\n",
       "    .dataframe thead th {\n",
       "        text-align: right;\n",
       "    }\n",
       "</style>\n",
       "<table border=\"1\" class=\"dataframe\">\n",
       "  <thead>\n",
       "    <tr style=\"text-align: right;\">\n",
       "      <th></th>\n",
       "      <th>Actual Value (y_test)</th>\n",
       "      <th>Predicted Value (LGBM_tuned)</th>\n",
       "      <th>Difference</th>\n",
       "    </tr>\n",
       "  </thead>\n",
       "  <tbody>\n",
       "    <tr>\n",
       "      <th>7362</th>\n",
       "      <td>233.605</td>\n",
       "      <td>265.454823</td>\n",
       "      <td>31.849823</td>\n",
       "    </tr>\n",
       "    <tr>\n",
       "      <th>7363</th>\n",
       "      <td>303.605</td>\n",
       "      <td>265.454823</td>\n",
       "      <td>38.150177</td>\n",
       "    </tr>\n",
       "    <tr>\n",
       "      <th>7364</th>\n",
       "      <td>288.610</td>\n",
       "      <td>262.084210</td>\n",
       "      <td>26.525790</td>\n",
       "    </tr>\n",
       "    <tr>\n",
       "      <th>7365</th>\n",
       "      <td>308.610</td>\n",
       "      <td>265.454823</td>\n",
       "      <td>43.155177</td>\n",
       "    </tr>\n",
       "    <tr>\n",
       "      <th>7366</th>\n",
       "      <td>288.610</td>\n",
       "      <td>257.104834</td>\n",
       "      <td>31.505166</td>\n",
       "    </tr>\n",
       "    <tr>\n",
       "      <th>...</th>\n",
       "      <td>...</td>\n",
       "      <td>...</td>\n",
       "      <td>...</td>\n",
       "    </tr>\n",
       "    <tr>\n",
       "      <th>1580582</th>\n",
       "      <td>468.610</td>\n",
       "      <td>421.808992</td>\n",
       "      <td>46.801008</td>\n",
       "    </tr>\n",
       "    <tr>\n",
       "      <th>1580583</th>\n",
       "      <td>538.600</td>\n",
       "      <td>637.354572</td>\n",
       "      <td>98.754572</td>\n",
       "    </tr>\n",
       "    <tr>\n",
       "      <th>1580584</th>\n",
       "      <td>438.600</td>\n",
       "      <td>498.405892</td>\n",
       "      <td>59.805892</td>\n",
       "    </tr>\n",
       "    <tr>\n",
       "      <th>1580585</th>\n",
       "      <td>548.600</td>\n",
       "      <td>641.995750</td>\n",
       "      <td>93.395750</td>\n",
       "    </tr>\n",
       "    <tr>\n",
       "      <th>1580586</th>\n",
       "      <td>458.605</td>\n",
       "      <td>505.157286</td>\n",
       "      <td>46.552286</td>\n",
       "    </tr>\n",
       "  </tbody>\n",
       "</table>\n",
       "<p>313628 rows × 3 columns</p>\n",
       "</div>"
      ],
      "text/plain": [
       "         Actual Value (y_test)  Predicted Value (LGBM_tuned)  Difference\n",
       "7362                   233.605                    265.454823   31.849823\n",
       "7363                   303.605                    265.454823   38.150177\n",
       "7364                   288.610                    262.084210   26.525790\n",
       "7365                   308.610                    265.454823   43.155177\n",
       "7366                   288.610                    257.104834   31.505166\n",
       "...                        ...                           ...         ...\n",
       "1580582                468.610                    421.808992   46.801008\n",
       "1580583                538.600                    637.354572   98.754572\n",
       "1580584                438.600                    498.405892   59.805892\n",
       "1580585                548.600                    641.995750   93.395750\n",
       "1580586                458.605                    505.157286   46.552286\n",
       "\n",
       "[313628 rows x 3 columns]"
      ]
     },
     "execution_count": 364,
     "metadata": {},
     "output_type": "execute_result"
    }
   ],
   "source": [
    "df_pred_2 = create_comparison_dataframe(y_test, pred_2, \"LGBM_tuned\")\n",
    "\n",
    "\n",
    "\n",
    "df_pred_2    "
   ]
  },
  {
   "cell_type": "markdown",
   "metadata": {},
   "source": [
    "## 6. Train Default XGBoost Model"
   ]
  },
  {
   "cell_type": "code",
   "execution_count": 370,
   "metadata": {},
   "outputs": [],
   "source": [
    "import xgboost as xgb\n",
    "\n",
    "def create_xgb_pipeline(preprocessor, X_train, y_train, params):\n",
    "    xgb_pipe = Pipeline(\n",
    "        steps=[\n",
    "            ('preprocessor', preprocessor),\n",
    "            ('xgb', xgb.XGBRegressor(**params))\n",
    "        ]\n",
    "    )\n",
    "    xgb_pipe.fit(X_train, y_train)\n",
    "    return xgb_pipe"
   ]
  },
  {
   "cell_type": "code",
   "execution_count": 371,
   "metadata": {},
   "outputs": [],
   "source": [
    "default_parm = {}\n",
    "xgb_default = create_xgb_pipeline(preprocessor, X_train, y_train, default_parm)"
   ]
  },
  {
   "cell_type": "code",
   "execution_count": 372,
   "metadata": {},
   "outputs": [],
   "source": [
    "pred_3 = xgb_default.predict(X_test)"
   ]
  },
  {
   "cell_type": "code",
   "execution_count": 373,
   "metadata": {},
   "outputs": [
    {
     "data": {
      "text/plain": [
       "{'RMSE': 102.65179553762525,\n",
       " 'MSE': 10537.391127098417,\n",
       " 'R2': 0.6072288664142613,\n",
       " 'MAE': 70.662588873247}"
      ]
     },
     "execution_count": 373,
     "metadata": {},
     "output_type": "execute_result"
    }
   ],
   "source": [
    "calculate_regression_metrics(y_test, pred_3)"
   ]
  },
  {
   "cell_type": "code",
   "execution_count": 374,
   "metadata": {},
   "outputs": [
    {
     "data": {
      "text/html": [
       "<div>\n",
       "<style scoped>\n",
       "    .dataframe tbody tr th:only-of-type {\n",
       "        vertical-align: middle;\n",
       "    }\n",
       "\n",
       "    .dataframe tbody tr th {\n",
       "        vertical-align: top;\n",
       "    }\n",
       "\n",
       "    .dataframe thead th {\n",
       "        text-align: right;\n",
       "    }\n",
       "</style>\n",
       "<table border=\"1\" class=\"dataframe\">\n",
       "  <thead>\n",
       "    <tr style=\"text-align: right;\">\n",
       "      <th></th>\n",
       "      <th>Actual Value (y_test)</th>\n",
       "      <th>Predicted Value (XGBOOST_Deafult)</th>\n",
       "      <th>Difference</th>\n",
       "    </tr>\n",
       "  </thead>\n",
       "  <tbody>\n",
       "    <tr>\n",
       "      <th>7362</th>\n",
       "      <td>233.605</td>\n",
       "      <td>299.033356</td>\n",
       "      <td>65.428356</td>\n",
       "    </tr>\n",
       "    <tr>\n",
       "      <th>7363</th>\n",
       "      <td>303.605</td>\n",
       "      <td>299.033356</td>\n",
       "      <td>4.571644</td>\n",
       "    </tr>\n",
       "    <tr>\n",
       "      <th>7364</th>\n",
       "      <td>288.610</td>\n",
       "      <td>304.271179</td>\n",
       "      <td>15.661179</td>\n",
       "    </tr>\n",
       "    <tr>\n",
       "      <th>7365</th>\n",
       "      <td>308.610</td>\n",
       "      <td>299.033356</td>\n",
       "      <td>9.576644</td>\n",
       "    </tr>\n",
       "    <tr>\n",
       "      <th>7366</th>\n",
       "      <td>288.610</td>\n",
       "      <td>294.011536</td>\n",
       "      <td>5.401536</td>\n",
       "    </tr>\n",
       "    <tr>\n",
       "      <th>...</th>\n",
       "      <td>...</td>\n",
       "      <td>...</td>\n",
       "      <td>...</td>\n",
       "    </tr>\n",
       "    <tr>\n",
       "      <th>1580582</th>\n",
       "      <td>468.610</td>\n",
       "      <td>333.369904</td>\n",
       "      <td>135.240096</td>\n",
       "    </tr>\n",
       "    <tr>\n",
       "      <th>1580583</th>\n",
       "      <td>538.600</td>\n",
       "      <td>522.737488</td>\n",
       "      <td>15.862512</td>\n",
       "    </tr>\n",
       "    <tr>\n",
       "      <th>1580584</th>\n",
       "      <td>438.600</td>\n",
       "      <td>349.073853</td>\n",
       "      <td>89.526147</td>\n",
       "    </tr>\n",
       "    <tr>\n",
       "      <th>1580585</th>\n",
       "      <td>548.600</td>\n",
       "      <td>696.027405</td>\n",
       "      <td>147.427405</td>\n",
       "    </tr>\n",
       "    <tr>\n",
       "      <th>1580586</th>\n",
       "      <td>458.605</td>\n",
       "      <td>498.083679</td>\n",
       "      <td>39.478679</td>\n",
       "    </tr>\n",
       "  </tbody>\n",
       "</table>\n",
       "<p>313628 rows × 3 columns</p>\n",
       "</div>"
      ],
      "text/plain": [
       "         Actual Value (y_test)  Predicted Value (XGBOOST_Deafult)  Difference\n",
       "7362                   233.605                         299.033356   65.428356\n",
       "7363                   303.605                         299.033356    4.571644\n",
       "7364                   288.610                         304.271179   15.661179\n",
       "7365                   308.610                         299.033356    9.576644\n",
       "7366                   288.610                         294.011536    5.401536\n",
       "...                        ...                                ...         ...\n",
       "1580582                468.610                         333.369904  135.240096\n",
       "1580583                538.600                         522.737488   15.862512\n",
       "1580584                438.600                         349.073853   89.526147\n",
       "1580585                548.600                         696.027405  147.427405\n",
       "1580586                458.605                         498.083679   39.478679\n",
       "\n",
       "[313628 rows x 3 columns]"
      ]
     },
     "execution_count": 374,
     "metadata": {},
     "output_type": "execute_result"
    }
   ],
   "source": [
    "df_pred_3 = create_comparison_dataframe(y_test, pred_3, \"XGBOOST_Deafult\")\n",
    "\n",
    "\n",
    "df_pred_3    "
   ]
  },
  {
   "cell_type": "markdown",
   "metadata": {},
   "source": [
    "## 7. Tuned XGBoost Model"
   ]
  },
  {
   "cell_type": "code",
   "execution_count": 375,
   "metadata": {},
   "outputs": [],
   "source": [
    "xgb_params = {\n",
    "    'n_estimators': 1000,\n",
    "    'learning_rate': 0.05,\n",
    "    'max_depth': 5,\n",
    "    'min_child_weight': 3,\n",
    "    'subsample': 0.8,\n",
    "    'colsample_bytree': 0.8,\n",
    "    'objective': 'reg:squarederror',\n",
    "    'n_jobs': -1,\n",
    "    'booster': 'gbtree',\n",
    "    'reg_alpha': 0.01,\n",
    "    'reg_lambda': 1,\n",
    "    'random_state': 42\n",
    "}\n",
    "\n",
    "xgb_pipe_tuned = create_xgb_pipeline(preprocessor, X_train, y_train, xgb_params)"
   ]
  },
  {
   "cell_type": "code",
   "execution_count": 376,
   "metadata": {},
   "outputs": [],
   "source": [
    "pred_4 = xgb_pipe_tuned.predict(X_test)"
   ]
  },
  {
   "cell_type": "code",
   "execution_count": 377,
   "metadata": {},
   "outputs": [
    {
     "data": {
      "text/plain": [
       "{'RMSE': 103.60015410760649,\n",
       " 'MSE': 10732.991931119814,\n",
       " 'R2': 0.5999380343098901,\n",
       " 'MAE': 71.334566760529}"
      ]
     },
     "execution_count": 377,
     "metadata": {},
     "output_type": "execute_result"
    }
   ],
   "source": [
    "calculate_regression_metrics(y_test, pred_4)"
   ]
  },
  {
   "cell_type": "code",
   "execution_count": 378,
   "metadata": {},
   "outputs": [
    {
     "data": {
      "text/html": [
       "<div>\n",
       "<style scoped>\n",
       "    .dataframe tbody tr th:only-of-type {\n",
       "        vertical-align: middle;\n",
       "    }\n",
       "\n",
       "    .dataframe tbody tr th {\n",
       "        vertical-align: top;\n",
       "    }\n",
       "\n",
       "    .dataframe thead th {\n",
       "        text-align: right;\n",
       "    }\n",
       "</style>\n",
       "<table border=\"1\" class=\"dataframe\">\n",
       "  <thead>\n",
       "    <tr style=\"text-align: right;\">\n",
       "      <th></th>\n",
       "      <th>Actual Value (y_test)</th>\n",
       "      <th>Predicted Value (XGBOOST_tuned)</th>\n",
       "      <th>Difference</th>\n",
       "    </tr>\n",
       "  </thead>\n",
       "  <tbody>\n",
       "    <tr>\n",
       "      <th>7362</th>\n",
       "      <td>233.605</td>\n",
       "      <td>278.222351</td>\n",
       "      <td>44.617351</td>\n",
       "    </tr>\n",
       "    <tr>\n",
       "      <th>7363</th>\n",
       "      <td>303.605</td>\n",
       "      <td>278.222351</td>\n",
       "      <td>25.382649</td>\n",
       "    </tr>\n",
       "    <tr>\n",
       "      <th>7364</th>\n",
       "      <td>288.610</td>\n",
       "      <td>278.169708</td>\n",
       "      <td>10.440292</td>\n",
       "    </tr>\n",
       "    <tr>\n",
       "      <th>7365</th>\n",
       "      <td>308.610</td>\n",
       "      <td>278.222351</td>\n",
       "      <td>30.387649</td>\n",
       "    </tr>\n",
       "    <tr>\n",
       "      <th>7366</th>\n",
       "      <td>288.610</td>\n",
       "      <td>272.959320</td>\n",
       "      <td>15.650680</td>\n",
       "    </tr>\n",
       "    <tr>\n",
       "      <th>...</th>\n",
       "      <td>...</td>\n",
       "      <td>...</td>\n",
       "      <td>...</td>\n",
       "    </tr>\n",
       "    <tr>\n",
       "      <th>1580582</th>\n",
       "      <td>468.610</td>\n",
       "      <td>337.750519</td>\n",
       "      <td>130.859481</td>\n",
       "    </tr>\n",
       "    <tr>\n",
       "      <th>1580583</th>\n",
       "      <td>538.600</td>\n",
       "      <td>586.744446</td>\n",
       "      <td>48.144446</td>\n",
       "    </tr>\n",
       "    <tr>\n",
       "      <th>1580584</th>\n",
       "      <td>438.600</td>\n",
       "      <td>409.643036</td>\n",
       "      <td>28.956964</td>\n",
       "    </tr>\n",
       "    <tr>\n",
       "      <th>1580585</th>\n",
       "      <td>548.600</td>\n",
       "      <td>701.679749</td>\n",
       "      <td>153.079749</td>\n",
       "    </tr>\n",
       "    <tr>\n",
       "      <th>1580586</th>\n",
       "      <td>458.605</td>\n",
       "      <td>495.789307</td>\n",
       "      <td>37.184307</td>\n",
       "    </tr>\n",
       "  </tbody>\n",
       "</table>\n",
       "<p>313628 rows × 3 columns</p>\n",
       "</div>"
      ],
      "text/plain": [
       "         Actual Value (y_test)  Predicted Value (XGBOOST_tuned)  Difference\n",
       "7362                   233.605                       278.222351   44.617351\n",
       "7363                   303.605                       278.222351   25.382649\n",
       "7364                   288.610                       278.169708   10.440292\n",
       "7365                   308.610                       278.222351   30.387649\n",
       "7366                   288.610                       272.959320   15.650680\n",
       "...                        ...                              ...         ...\n",
       "1580582                468.610                       337.750519  130.859481\n",
       "1580583                538.600                       586.744446   48.144446\n",
       "1580584                438.600                       409.643036   28.956964\n",
       "1580585                548.600                       701.679749  153.079749\n",
       "1580586                458.605                       495.789307   37.184307\n",
       "\n",
       "[313628 rows x 3 columns]"
      ]
     },
     "execution_count": 378,
     "metadata": {},
     "output_type": "execute_result"
    }
   ],
   "source": [
    "df_pred_4 = create_comparison_dataframe(y_test, pred_4, \"XGBOOST_tuned\")\n",
    "\n",
    "df_pred_4    "
   ]
  },
  {
   "cell_type": "code",
   "execution_count": 379,
   "metadata": {},
   "outputs": [
    {
     "data": {
      "text/plain": [
       "['../models/XGB_tuned.joblib']"
      ]
     },
     "execution_count": 379,
     "metadata": {},
     "output_type": "execute_result"
    }
   ],
   "source": [
    "import joblib \n",
    "joblib.dump(lgb_default, '../models/LGB_default.joblib')\n",
    "joblib.dump(lgb_pipe_tuned, '../models/LGB_tuned.joblib')\n",
    "joblib.dump(xgb_default, '../models/XGB_default.joblib')\n",
    "joblib.dump(xgb_pipe_tuned, '../models/XGB_tuned.joblib')"
   ]
  }
 ],
 "metadata": {
  "kernelspec": {
   "display_name": "Python 3",
   "language": "python",
   "name": "python3"
  },
  "language_info": {
   "codemirror_mode": {
    "name": "ipython",
    "version": 3
   },
   "file_extension": ".py",
   "mimetype": "text/x-python",
   "name": "python",
   "nbconvert_exporter": "python",
   "pygments_lexer": "ipython3",
   "version": "3.11.6"
  }
 },
 "nbformat": 4,
 "nbformat_minor": 2
}
